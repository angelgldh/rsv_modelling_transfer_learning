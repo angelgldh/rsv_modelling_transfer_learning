{
 "cells": [
  {
   "cell_type": "code",
   "execution_count": 204,
   "metadata": {},
   "outputs": [],
   "source": [
    "import os\n",
    "import pandas as pd\n",
    "import numpy as np\n",
    "import matplotlib.pyplot as plt\n",
    "import seaborn as sns\n",
    "import importlib\n",
    "from sklearn.linear_model import LogisticRegression\n",
    "import statsmodels.api as sm\n",
    "\n",
    "\n",
    "# import from custom package\n",
    "from auxFuns.EDA import *\n",
    "from auxFuns.modelling import *"
   ]
  },
  {
   "cell_type": "code",
   "execution_count": 203,
   "metadata": {},
   "outputs": [
    {
     "data": {
      "text/plain": [
       "<module 'auxFuns.EDA' from 'c:\\\\Users\\\\angel\\\\Documents\\\\VSCode\\\\rsv_modelling_transfer_learning\\\\auxFuns\\\\EDA.py'>"
      ]
     },
     "execution_count": 203,
     "metadata": {},
     "output_type": "execute_result"
    }
   ],
   "source": [
    "import auxFuns.modelling \n",
    "import auxFuns.EDA\n",
    "importlib.reload(auxFuns.modelling)\n",
    "importlib.reload(auxFuns.EDA)"
   ]
  },
  {
   "attachments": {},
   "cell_type": "markdown",
   "metadata": {},
   "source": [
    "# 1. Model selection\n",
    "Feature selection using the following techniques:\n",
    "- Backward stepwise selection\n",
    "- Penalized regression\n",
    "- Feature importance in random forest\n",
    "\n",
    "Although not ideal, they are helpful to obtain the big picture of which models are worth trying"
   ]
  },
  {
   "cell_type": "code",
   "execution_count": 151,
   "metadata": {},
   "outputs": [],
   "source": [
    "raw_datasets_path = os.getcwd() + '/datasets/raw'\n",
    "processed_datasets_path = os.getcwd() + '/datasets/processed'\n",
    "\n",
    "rsv_predictors_df_v2 = pd.read_csv(processed_datasets_path + '/rsv_predictors_phase1_daysDedup.csv')\n",
    "rsv_predictors_df_v2 = make_it_categorical_v2(rsv_predictors_df_v2)\n",
    "\n",
    "# summary_function_rsv(rsv_predictors_df_v2)\n",
    "\n",
    "# Extract a reduced sample of the data for modelling\n",
    "# sample_size = 20000\n",
    "sample_size = rsv_predictors_df_v2.shape[0]\n",
    "sample_dedup_df = rsv_predictors_df_v2.sample(n = sample_size)"
   ]
  },
  {
   "cell_type": "code",
   "execution_count": 152,
   "metadata": {},
   "outputs": [],
   "source": [
    "df1 = sample_dedup_df.drop(\n",
    "    ['patient_id', 'index_date', 'tendency_to_positivity', 'n_encounters', 'n_tests_that_day'], axis = 1)"
   ]
  },
  {
   "attachments": {},
   "cell_type": "markdown",
   "metadata": {},
   "source": [
    "## 1.1 Backward stepwise selection"
   ]
  },
  {
   "cell_type": "code",
   "execution_count": 195,
   "metadata": {},
   "outputs": [
    {
     "name": "stdout",
     "output_type": "stream",
     "text": [
      "Resampling method chosen:\n",
      "\n",
      "None\n",
      "Warning: Maximum number of iterations has been exceeded.\n",
      "         Current function value: 0.123773\n",
      "         Iterations: 35\n",
      "Predictor calendar_year_2008 has been removed\n",
      "Predictor calendar_year_2007 has been removed\n",
      "Predictor calendar_year_2004 has been removed\n",
      "Predictor calendar_year_2009 has been removed\n",
      "Predictor key_comorbidities_2 has been removed\n",
      "Predictor patient_regional_location_Unknown has been removed\n",
      "Predictor Diabetes_complications_1 has been removed\n",
      "Predictor any_immunodeficiency_1 has been removed\n",
      "Predictor race_Pacific has been removed\n",
      "Predictor Symptoms_and_signs__skin_and_subcutaneous_tissue_1 has been removed\n",
      "Predictor Dementia_1 has been removed\n",
      "Predictor CVD_1 has been removed\n",
      "Predictor Asthma_1 has been removed\n",
      "Predictor Symptoms_and_signs__cognition_perception_emotional_state_and_behaviour_1 has been removed\n",
      "Predictor age_group_31-35 has been removed\n",
      "Predictor marital_status_Single has been removed\n",
      "Predictor age_group_41-45 has been removed\n",
      "Predictor race_Unknown has been removed\n",
      "Predictor moderate_liver_disease_1 has been removed\n",
      "Predictor race_White has been removed\n",
      "Predictor n_symptoms has been removed\n",
      "Predictor Other_COPD_1 has been removed\n",
      "Predictor Peripheral_Vascular_1 has been removed\n",
      "Predictor Diabetes_1 has been removed\n",
      "Predictor rheuma_disease_1 has been removed\n",
      "Predictor Hystory_myocardial_infarction_1 has been removed\n",
      "Predictor Renal_disease_1 has been removed\n",
      "Predictor Paralysis_1 has been removed\n",
      "Predictor Peptic_Ulcer_Disease_1 has been removed\n",
      "Predictor is_metastatic_1 has been removed\n",
      "Predictor age_group_46-50 has been removed\n",
      "Predictor n_immunodeficiencies has been removed\n",
      "Predictor age_group_26-30 has been removed\n",
      "Predictor Rhinitis_1 has been removed\n",
      "Predictor Congestive_heart_failure_1 has been removed\n",
      "Predictor Acute_myocardial_infarction_1 has been removed\n",
      "Predictor race_Black has been removed\n",
      "Predictor age_group_36-40 has been removed\n",
      "Predictor patient_regional_location_West has been removed\n",
      "Predictor race_Native American has been removed\n",
      "Predictor key_comorbidities_1 has been removed\n",
      "Predictor COVID19_related_1 has been removed\n",
      "Predictor mild_liver_disease_1 has been removed\n",
      "Predictor calendar_year_2010 has been removed\n",
      "Backward selection process finished!\n",
      "['marital_status_Unknown', 'patient_regional_location_Northeast', 'patient_regional_location_South', 'age_group_51-55', 'age_group_56-60', 'Conjuctivitis_1', 'Acute_upper_respiratory_infection_1', 'Influenza_1', 'Pneumonia_1', 'Bronchitis_1', 'Acute_lower_respiratory_infection_other_1', 'Symptoms_and_signs__circulatory_and_respiratory_1', 'Symptoms_and_signs__digestive_system_and_abdomen_1', 'General_symptoms_and_signs_1', 'any_symptom_1', 'COPD_1', 'AIDS_1', 'Asthma_chronic_1', 'healthcare_seeking_1', 'influenza_vaccine_1', 'tumor_indicator_1', 'tumor_last_year_1', 'calendar_year_2011', 'calendar_year_2012', 'calendar_year_2013', 'calendar_year_2014', 'calendar_year_2015', 'calendar_year_2016', 'calendar_year_2017', 'calendar_year_2018', 'calendar_year_2019', 'calendar_year_2020', 'calendar_year_2021', 'calendar_year_2022', 'sex_F', 'sex_M', 'CCI', 'prev_positive_rsv', 'previous_test_daydiff', 'sine', 'cosine']\n"
     ]
    }
   ],
   "source": [
    "# Naive approach to bakwards stepwise selection, exclusively to see which results are produced\n",
    "X_train_transformed, y_train, X_test_transformed, y_test, preprocessor_rsv = preprocess_and_resample_rsv(\n",
    "    df1, input_test_size = 0.2, random_seed = 42, resampling_technique = None)\n",
    "\n",
    "y_train_numeric = pd.Series([1 if label == 'Positive' else 0 for label in y_train])\n",
    "X_pd = pd.DataFrame.sparse.from_spmatrix(X_train_transformed, columns = get_feature_names_OneHotEncoder_preprocessor(preprocessor_rsv))\n",
    "\n",
    "# First, produce the full model\n",
    "model_full = sm.Logit(y_train_numeric, X_pd)\n",
    "result = model_full.fit()\n",
    "\n",
    "# Set the usual significance level at 0.05\n",
    "sl = 0.05\n",
    "\n",
    "# Main loop for backward selection\n",
    "cols = get_feature_names_OneHotEncoder_preprocessor(preprocessor_rsv)\n",
    "while len(cols) > 0:\n",
    "    X_1 = X_pd[cols]\n",
    "    model = sm.Logit(y_train_numeric, X_1)\n",
    "    result = model.fit(disp=0)\n",
    "    p_values = result.pvalues\n",
    "    max_p_value = max(p_values)\n",
    "    feature_with_p_max = p_values.idxmax()\n",
    "    if max_p_value > sl:\n",
    "        print(f'Predictor {feature_with_p_max} has been removed')\n",
    "        cols.remove(feature_with_p_max)\n",
    "    else:\n",
    "        print('Backward selection process finished!')\n",
    "        break\n",
    "\n",
    "selected_features = cols\n",
    "print(selected_features)"
   ]
  },
  {
   "attachments": {},
   "cell_type": "markdown",
   "metadata": {},
   "source": [
    "## 1.2. Penalized regression\n"
   ]
  },
  {
   "cell_type": "code",
   "execution_count": 196,
   "metadata": {},
   "outputs": [
    {
     "name": "stdout",
     "output_type": "stream",
     "text": [
      "Resampling method chosen:\n",
      "\n",
      "None\n"
     ]
    }
   ],
   "source": [
    "X_train_transformed_smote, y_train_smote, X_test_transformed_smote, y_test_smote, preprocessor_rsv = preprocess_and_resample_rsv(\n",
    "    df1, input_test_size = 0.2, random_seed = 42, resampling_technique = None)"
   ]
  },
  {
   "cell_type": "code",
   "execution_count": 200,
   "metadata": {},
   "outputs": [
    {
     "name": "stderr",
     "output_type": "stream",
     "text": [
      "C:\\Users\\angel\\AppData\\Local\\Packages\\PythonSoftwareFoundation.Python.3.9_qbz5n2kfra8p0\\LocalCache\\local-packages\\Python39\\site-packages\\sklearn\\linear_model\\_sag.py:350: ConvergenceWarning: The max_iter was reached which means the coef_ did not converge\n",
      "  warnings.warn(\n"
     ]
    },
    {
     "name": "stdout",
     "output_type": "stream",
     "text": [
      "Optimal threshold: 0.09\n",
      "Optimal f1: 0.19063004846526654\n",
      "\n",
      "\n",
      "AUC Score: 0.7324429803927943\n",
      "Precision / Positive predictive value: 0.1669024045261669\n",
      "Specificity: 0.9646903662849949\n",
      "Recall / sensitivity: 0.2222222222222222\n",
      "Negative predictive value: 0.9749772796122387\n",
      "Accuracy: 0.9417848013014176\n",
      "F-1: 0.19063004846526654\n"
     ]
    }
   ],
   "source": [
    "classifier = LogisticRegression(penalty='l1', solver='saga', C= 0.05)\n",
    "classifier.fit(X_train_transformed_smote, y_train_smote)\n",
    "\n",
    "# Determine the coefficients of the L1 regression (names, values)\n",
    "feature_names = get_feature_names_OneHotEncoder_preprocessor(preprocessor_rsv)\n",
    "coef_dict = (dict(zip(feature_names, abs(classifier.coef_[0]))))\n",
    "\n",
    "# Evaluating result of the model\n",
    "y_pred = classifier.predict(X_test_transformed_smote)\n",
    "\n",
    "optimal_threshold = find_optimal_moving_threshold(model = classifier, X_test = X_test_transformed_smote, y_test = y_test_smote)\n",
    "__,__,__,__,__,__,__ = calculate_performance_metrics_rsv(trained_model = classifier, X_test = X_test_transformed_smote, y_test = y_test_smote,\n",
    "                                                         threshold = optimal_threshold, \n",
    "                                                         print_roc = False)"
   ]
  },
  {
   "cell_type": "code",
   "execution_count": 201,
   "metadata": {},
   "outputs": [
    {
     "data": {
      "text/plain": [
       "[('sex_F', 2.1363480586289763),\n",
       " ('sex_M', 2.135390524314064),\n",
       " ('Bronchitis_1', 1.1165793958861374),\n",
       " ('any_symptom_1', 0.7246668867988667),\n",
       " ('Influenza_1', 0.7164293255988248),\n",
       " ('cosine', 0.6690079998484041),\n",
       " ('calendar_year_2022', 0.5650195898980706),\n",
       " ('General_symptoms_and_signs_1', 0.5108991575474107),\n",
       " ('sine', 0.43797193787726485),\n",
       " ('Symptoms_and_signs__digestive_system_and_abdomen_1', 0.4119548671833778),\n",
       " ('Acute_upper_respiratory_infection_1', 0.40209622053335403),\n",
       " ('n_symptoms', 0.39459094406203565),\n",
       " ('healthcare_seeking_1', 0.32528512026595113),\n",
       " ('patient_regional_location_South', 0.2963670351770392),\n",
       " ('COPD_1', 0.2925309121971603),\n",
       " ('previous_test_daydiff', 0.21084803218119647),\n",
       " ('patient_regional_location_Northeast', 0.1991655485593708),\n",
       " ('prev_positive_rsv', 0.18841238318791875),\n",
       " ('calendar_year_2020', 0.11664523009181191),\n",
       " ('calendar_year_2018', 0.1045058039938296),\n",
       " ('mild_liver_disease_1', 0.09432482197763749),\n",
       " ('AIDS_1', 0.0895770676859015),\n",
       " ('marital_status_Single', 0.07630168976040629),\n",
       " ('tumor_indicator_1', 0.07132088231093825),\n",
       " ('age_group_51-55', 0.05903017757218434),\n",
       " ('CCI', 0.056424891734670975),\n",
       " ('age_group_36-40', 0.05125170759430596),\n",
       " ('influenza_vaccine_1', 0.0475265514107857),\n",
       " ('race_Black', 0.042816302261365055),\n",
       " ('Diabetes_1', 0.0305779043886616),\n",
       " ('n_immunodeficiencies', 0.0237748229766887),\n",
       " ('age_group_46-50', 0.0151567895308283),\n",
       " ('Acute_myocardial_infarction_1', 0.012317210574447355),\n",
       " ('Renal_disease_1', 0.007904288796030265),\n",
       " ('patient_regional_location_West', 0.0062225314026456025),\n",
       " ('age_group_26-30', 0.0047706656857099015),\n",
       " ('Pneumonia_1', 0.00387295984920357),\n",
       " ('race_White', 0.0021763436992612854),\n",
       " ('calendar_year_2016', 0.001160901325708545),\n",
       " ('race_Native American', 0.0),\n",
       " ('race_Pacific', 0.0),\n",
       " ('race_Unknown', 0.0),\n",
       " ('marital_status_Unknown', 0.0),\n",
       " ('patient_regional_location_Unknown', 0.0),\n",
       " ('age_group_31-35', 0.0),\n",
       " ('age_group_41-45', 0.0),\n",
       " ('age_group_56-60', 0.0),\n",
       " ('Conjuctivitis_1', 0.0),\n",
       " ('Acute_lower_respiratory_infection_other_1', 0.0),\n",
       " ('Rhinitis_1', 0.0),\n",
       " ('Other_COPD_1', 0.0),\n",
       " ('Asthma_1', 0.0),\n",
       " ('Symptoms_and_signs__circulatory_and_respiratory_1', 0.0),\n",
       " ('Symptoms_and_signs__skin_and_subcutaneous_tissue_1', 0.0),\n",
       " ('Symptoms_and_signs__cognition_perception_emotional_state_and_behaviour_1',\n",
       "  0.0),\n",
       " ('COVID19_related_1', 0.0),\n",
       " ('Hystory_myocardial_infarction_1', 0.0),\n",
       " ('Congestive_heart_failure_1', 0.0),\n",
       " ('Peripheral_Vascular_1', 0.0),\n",
       " ('CVD_1', 0.0),\n",
       " ('Dementia_1', 0.0),\n",
       " ('Paralysis_1', 0.0),\n",
       " ('Diabetes_complications_1', 0.0),\n",
       " ('moderate_liver_disease_1', 0.0),\n",
       " ('Peptic_Ulcer_Disease_1', 0.0),\n",
       " ('rheuma_disease_1', 0.0),\n",
       " ('Asthma_chronic_1', 0.0),\n",
       " ('key_comorbidities_1', 0.0),\n",
       " ('key_comorbidities_2', 0.0),\n",
       " ('any_immunodeficiency_1', 0.0),\n",
       " ('tumor_last_year_1', 0.0),\n",
       " ('is_metastatic_1', 0.0),\n",
       " ('calendar_year_2004', 0.0),\n",
       " ('calendar_year_2007', 0.0),\n",
       " ('calendar_year_2008', 0.0),\n",
       " ('calendar_year_2009', 0.0),\n",
       " ('calendar_year_2010', 0.0),\n",
       " ('calendar_year_2011', 0.0),\n",
       " ('calendar_year_2012', 0.0),\n",
       " ('calendar_year_2013', 0.0),\n",
       " ('calendar_year_2014', 0.0),\n",
       " ('calendar_year_2015', 0.0),\n",
       " ('calendar_year_2017', 0.0),\n",
       " ('calendar_year_2019', 0.0),\n",
       " ('calendar_year_2021', 0.0)]"
      ]
     },
     "execution_count": 201,
     "metadata": {},
     "output_type": "execute_result"
    }
   ],
   "source": [
    "sorted(coef_dict.items(), key = lambda x: x[1], reverse = True)"
   ]
  },
  {
   "attachments": {},
   "cell_type": "markdown",
   "metadata": {},
   "source": [
    "## 1.3 Feature importance in random forest"
   ]
  },
  {
   "cell_type": "code",
   "execution_count": 202,
   "metadata": {},
   "outputs": [],
   "source": [
    "X_train_transformed, y_train, X_test_transformed, y_test, preprocessor_rsv = preprocess_rsv(df1, \n",
    "                                                                          input_test_size = 0.2, random_seed = 42\n",
    "                                                                          )"
   ]
  },
  {
   "cell_type": "code",
   "execution_count": 205,
   "metadata": {},
   "outputs": [
    {
     "name": "stdout",
     "output_type": "stream",
     "text": [
      "Training model ... RandomForestClassifier(class_weight={'Negative': 1, 'Positive': 5},\n",
      "                       random_state=42)\n"
     ]
    }
   ],
   "source": [
    "random_seed = 42\n",
    "cost_sensitive = True\n",
    "\n",
    "if cost_sensitive:\n",
    "    weight_dict = {\"Negative\": 1,\n",
    "                   \"Positive\": 5}\n",
    "    model_class = RandomForestClassifier(class_weight= weight_dict,\n",
    "                                         random_state= random_seed)\n",
    "else:\n",
    "    model_class = RandomForestClassifier(class_weight= None,\n",
    "                                         random_state= random_seed)\n",
    "    \n",
    "param_grid = {\n",
    "    'n_estimators': [7, 14],\n",
    "    'max_depth': [10, 20],\n",
    "    'min_samples_split': [5, 10],\n",
    "    'min_samples_leaf': [1, 4]\n",
    "}\n",
    "target_scorer = make_scorer(f1_score, pos_label = 'Positive')\n",
    "n_cv_folds = 5\n",
    "\n",
    "model_rf = train_model_rsv(model = model_class, param_grid = param_grid, target_scorer = target_scorer, n_cv_folds = n_cv_folds,\n",
    "                    X_train = X_train_transformed, y_train = y_train)\n",
    "\n",
    "# Evaluate the performance of the model\n",
    "optimal_threshold = find_optimal_moving_threshold(model = model_rf, X_test = X_test_transformed, y_test = y_test)\n",
    "\n",
    "__,__,__,__,__,__,f1 = calculate_performance_metrics_rsv(trained_model = model_rf, X_test = X_test_transformed, y_test = y_test,\n",
    "                                                         threshold = optimal_threshold, \n",
    "                                                         print_roc = True)\n"
   ]
  },
  {
   "cell_type": "code",
   "execution_count": null,
   "metadata": {},
   "outputs": [],
   "source": [
    "importance_df = feature_importance_rf_rsv(preprocessor_rsv, trained_model = model_rf)"
   ]
  }
 ],
 "metadata": {
  "kernelspec": {
   "display_name": "Python 3",
   "language": "python",
   "name": "python3"
  },
  "language_info": {
   "codemirror_mode": {
    "name": "ipython",
    "version": 3
   },
   "file_extension": ".py",
   "mimetype": "text/x-python",
   "name": "python",
   "nbconvert_exporter": "python",
   "pygments_lexer": "ipython3",
   "version": "3.9.13"
  },
  "orig_nbformat": 4
 },
 "nbformat": 4,
 "nbformat_minor": 2
}
