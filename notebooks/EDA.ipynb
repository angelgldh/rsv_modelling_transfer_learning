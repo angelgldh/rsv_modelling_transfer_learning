{
  "cells": [
    {
      "cell_type": "code",
      "execution_count": 2,
      "metadata": {
        "id": "oSEnnT1tQP7g"
      },
      "outputs": [],
      "source": [
        "import os\n",
        "import pandas as pd\n",
        "import numpy as np\n",
        "import matplotlib.pyplot as plt\n",
        "import seaborn as sns\n",
        "import statsmodels.api as sm\n",
        "import importlib\n",
        "\n",
        "# import from custom package\n",
        "from auxFuns.EDA import *\n",
        "from auxFuns.modelling import *"
      ]
    },
    {
      "cell_type": "code",
      "execution_count": 4,
      "metadata": {},
      "outputs": [
        {
          "data": {
            "text/plain": [
              "<module 'auxFuns.EDA' from 'c:\\\\Users\\\\angel\\\\Documents\\\\VSCode\\\\rsv_modelling_transfer_learning\\\\auxFuns\\\\EDA.py'>"
            ]
          },
          "execution_count": 4,
          "metadata": {},
          "output_type": "execute_result"
        }
      ],
      "source": [
        "import auxFuns.EDA \n",
        "importlib.reload(auxFuns.EDA)"
      ]
    },
    {
      "attachments": {},
      "cell_type": "markdown",
      "metadata": {},
      "source": [
        "# 1. Loading the data and summary function"
      ]
    },
    {
      "cell_type": "code",
      "execution_count": 6,
      "metadata": {
        "id": "sE6OZWu5RmTD"
      },
      "outputs": [],
      "source": [
        "datasets_path = os.getcwd() + '/datasets/raw'"
      ]
    },
    {
      "cell_type": "code",
      "execution_count": 7,
      "metadata": {
        "id": "zJhX3kZzRuc_"
      },
      "outputs": [],
      "source": [
        "rsv_predictors_phase1_df = pd.read_csv(datasets_path + '/rsv_predictors_df_phase1_v3.csv')\n",
        "rsv_predictors_phase1_df = make_it_categorical(rsv_predictors_phase1_df)"
      ]
    },
    {
      "cell_type": "code",
      "execution_count": 8,
      "metadata": {},
      "outputs": [],
      "source": [
        "# Add also the opportunity to load the preocessed files already here:\n",
        "raw_datasets_path = os.getcwd() + '/datasets/raw'\n",
        "processed_datasets_path = os.getcwd() + '/datasets/processed'\n",
        "\n",
        "# rsv_predictors_phase1_df = pd.read_csv(raw_datasets_path + '/rsv_predictors_df_phase1_v3.csv')\n",
        "# rsv_predictors_phase1_df = make_it_categorical(rsv_predictors_phase1_df)\n",
        "\n",
        "\n",
        "rsv_predictors_phase1_daysDedup_df = pd.read_csv(processed_datasets_path + '/rsv_predictors_phase1_daysDedup.csv',low_memory=False)\n",
        "rsv_predictors_phase1_daysDedup_df = make_it_categorical(rsv_predictors_phase1_daysDedup_df)"
      ]
    },
    {
      "cell_type": "code",
      "execution_count": 73,
      "metadata": {
        "colab": {
          "base_uri": "https://localhost:8080/"
        },
        "id": "r9m5LT2ofexp",
        "outputId": "3f49a969-4616-4698-8a55-a04e152219df"
      },
      "outputs": [
        {
          "name": "stdout",
          "output_type": "stream",
          "text": [
            "                CCI          sine        cosine    n_symptoms  n_encounters  \\\n",
            "count  86659.000000  86659.000000  8.665900e+04  86659.000000  86659.000000   \n",
            "mean       2.360297      0.305377  3.863281e-01      2.145963      4.697642   \n",
            "std        2.432005      0.639752  5.901029e-01      1.702432      6.967793   \n",
            "min        0.000000     -1.000000 -1.000000e+00      0.000000      1.000000   \n",
            "25%        0.000000     -0.239316 -1.608123e-16      1.000000      1.000000   \n",
            "50%        2.000000      0.464723  5.680647e-01      2.000000      2.000000   \n",
            "75%        4.000000      0.885456  8.854560e-01      3.000000      5.000000   \n",
            "max       14.000000      1.000000  1.000000e+00     13.000000     79.000000   \n",
            "\n",
            "       prev_positive_rsv  tendency_to_positivity  previous_test_daydiff  \\\n",
            "count       86659.000000            86659.000000           8.665900e+04   \n",
            "mean            0.061159                0.030626           3.788330e+05   \n",
            "std             0.394196                0.127717           4.776361e+06   \n",
            "min             0.000000                0.000000           0.000000e+00   \n",
            "25%             0.000000                0.000000           2.010000e+02   \n",
            "50%             0.000000                0.000000           1.095000e+03   \n",
            "75%             0.000000                0.000000           1.095000e+03   \n",
            "max            17.000000                1.000000           2.045088e+08   \n",
            "\n",
            "       n_immunodeficiencies  \n",
            "count          86659.000000  \n",
            "mean               0.785181  \n",
            "std                2.163228  \n",
            "min                0.000000  \n",
            "25%                0.000000  \n",
            "50%                0.000000  \n",
            "75%                0.000000  \n",
            "max               30.000000  \n",
            "\n",
            "\n",
            "Column: sex\n",
            "sex\n",
            "F          49484\n",
            "M          37152\n",
            "Unknown       23\n",
            "Name: count, dtype: int64\n",
            "\n",
            "\n",
            "Column: race\n",
            "race\n",
            "White              50945\n",
            "Black              23938\n",
            "Unknown             9550\n",
            "Asian               1580\n",
            "Native American      457\n",
            "Pacific              189\n",
            "Name: count, dtype: int64\n",
            "\n",
            "\n",
            "Column: marital_status\n",
            "marital_status\n",
            "Unknown    40200\n",
            "Single     30778\n",
            "Married    15681\n",
            "Name: count, dtype: int64\n",
            "\n",
            "\n",
            "Column: patient_regional_location\n",
            "patient_regional_location\n",
            "Midwest      29432\n",
            "Northeast    25270\n",
            "South        16727\n",
            "West         15229\n",
            "Unknown          1\n",
            "Name: count, dtype: int64\n",
            "\n",
            "\n",
            "Column: age_group\n",
            "age_group\n",
            "51-55    13508\n",
            "18-25    13322\n",
            "46-50    13176\n",
            "31-35    11282\n",
            "36-40    11063\n",
            "41-45    10775\n",
            "26-30    10390\n",
            "56-60     3143\n",
            "Name: count, dtype: int64\n",
            "\n",
            "\n",
            "Column: Conjuctivitis\n",
            "Conjuctivitis\n",
            "0    86158\n",
            "1      501\n",
            "Name: count, dtype: int64\n",
            "\n",
            "\n",
            "Column: Acute_upper_respiratory_infection\n",
            "Acute_upper_respiratory_infection\n",
            "0    67922\n",
            "1    18737\n",
            "Name: count, dtype: int64\n",
            "\n",
            "\n",
            "Column: Influenza\n",
            "Influenza\n",
            "0    74310\n",
            "1    12349\n",
            "Name: count, dtype: int64\n",
            "\n",
            "\n",
            "Column: Pneumonia\n",
            "Pneumonia\n",
            "0    68000\n",
            "1    18659\n",
            "Name: count, dtype: int64\n",
            "\n",
            "\n",
            "Column: Bronchitis\n",
            "Bronchitis\n",
            "0    81555\n",
            "1     5104\n",
            "Name: count, dtype: int64\n",
            "\n",
            "\n",
            "Column: Acute_lower_respiratory_infection_other\n",
            "Acute_lower_respiratory_infection_other\n",
            "0    86261\n",
            "1      398\n",
            "Name: count, dtype: int64\n",
            "\n",
            "\n",
            "Column: Rhinitis\n",
            "Rhinitis\n",
            "0    84847\n",
            "1     1812\n",
            "Name: count, dtype: int64\n",
            "\n",
            "\n",
            "Column: Other_COPD\n",
            "Other_COPD\n",
            "0    79921\n",
            "1     6738\n",
            "Name: count, dtype: int64\n",
            "\n",
            "\n",
            "Column: Asthma\n",
            "Asthma\n",
            "0    72579\n",
            "1    14080\n",
            "Name: count, dtype: int64\n",
            "\n",
            "\n",
            "Column: Symptoms_and_signs__circulatory_and_respiratory\n",
            "Symptoms_and_signs__circulatory_and_respiratory\n",
            "0    43693\n",
            "1    42966\n",
            "Name: count, dtype: int64\n",
            "\n",
            "\n",
            "Column: Symptoms_and_signs__digestive_system_and_abdomen\n",
            "Symptoms_and_signs__digestive_system_and_abdomen\n",
            "0    70483\n",
            "1    16176\n",
            "Name: count, dtype: int64\n",
            "\n",
            "\n",
            "Column: Symptoms_and_signs__skin_and_subcutaneous_tissue\n",
            "Symptoms_and_signs__skin_and_subcutaneous_tissue\n",
            "0    81391\n",
            "1     5268\n",
            "Name: count, dtype: int64\n",
            "\n",
            "\n",
            "Column: Symptoms_and_signs__cognition_perception_emotional_state_and_behaviour\n",
            "Symptoms_and_signs__cognition_perception_emotional_state_and_behaviour\n",
            "0    82296\n",
            "1     4363\n",
            "Name: count, dtype: int64\n",
            "\n",
            "\n",
            "Column: General_symptoms_and_signs\n",
            "General_symptoms_and_signs\n",
            "0    49151\n",
            "1    37508\n",
            "Name: count, dtype: int64\n",
            "\n",
            "\n",
            "Column: COVID19_related\n",
            "COVID19_related\n",
            "0    85351\n",
            "1     1308\n",
            "Name: count, dtype: int64\n",
            "\n",
            "\n",
            "Column: any_symptom\n",
            "any_symptom\n",
            "1    74656\n",
            "0    12003\n",
            "Name: count, dtype: int64\n",
            "\n",
            "\n",
            "Column: Acute_myocardial_infarction\n",
            "Acute_myocardial_infarction\n",
            "0    80652\n",
            "1     6007\n",
            "Name: count, dtype: int64\n",
            "\n",
            "\n",
            "Column: Hystory_myocardial_infarction\n",
            "Hystory_myocardial_infarction\n",
            "0    82642\n",
            "1     4017\n",
            "Name: count, dtype: int64\n",
            "\n",
            "\n",
            "Column: Congestive_heart_failure\n",
            "Congestive_heart_failure\n",
            "0    70859\n",
            "1    15800\n",
            "Name: count, dtype: int64\n",
            "\n",
            "\n",
            "Column: Peripheral_Vascular\n",
            "Peripheral_Vascular\n",
            "0    76008\n",
            "1    10651\n",
            "Name: count, dtype: int64\n",
            "\n",
            "\n",
            "Column: CVD\n",
            "CVD\n",
            "0    76958\n",
            "1     9701\n",
            "Name: count, dtype: int64\n",
            "\n",
            "\n",
            "Column: COPD\n",
            "COPD\n",
            "0    46454\n",
            "1    40205\n",
            "Name: count, dtype: int64\n",
            "\n",
            "\n",
            "Column: Dementia\n",
            "Dementia\n",
            "0    85986\n",
            "1      673\n",
            "Name: count, dtype: int64\n",
            "\n",
            "\n",
            "Column: Paralysis\n",
            "Paralysis\n",
            "0    81545\n",
            "1     5114\n",
            "Name: count, dtype: int64\n",
            "\n",
            "\n",
            "Column: Diabetes\n",
            "Diabetes\n",
            "0    65430\n",
            "1    21229\n",
            "Name: count, dtype: int64\n",
            "\n",
            "\n",
            "Column: Diabetes_complications\n",
            "Diabetes_complications\n",
            "0    74253\n",
            "1    12406\n",
            "Name: count, dtype: int64\n",
            "\n",
            "\n",
            "Column: Renal_disease\n",
            "Renal_disease\n",
            "0    69859\n",
            "1    16800\n",
            "Name: count, dtype: int64\n",
            "\n",
            "\n",
            "Column: mild_liver_disease\n",
            "mild_liver_disease\n",
            "0    69980\n",
            "1    16679\n",
            "Name: count, dtype: int64\n",
            "\n",
            "\n",
            "Column: moderate_liver_disease\n",
            "moderate_liver_disease\n",
            "0    82590\n",
            "1     4069\n",
            "Name: count, dtype: int64\n",
            "\n",
            "\n",
            "Column: Peptic_Ulcer_Disease\n",
            "Peptic_Ulcer_Disease\n",
            "0    83670\n",
            "1     2989\n",
            "Name: count, dtype: int64\n",
            "\n",
            "\n",
            "Column: rheuma_disease\n",
            "rheuma_disease\n",
            "0    80833\n",
            "1     5826\n",
            "Name: count, dtype: int64\n",
            "\n",
            "\n",
            "Column: AIDS\n",
            "AIDS\n",
            "0    81215\n",
            "1     5444\n",
            "Name: count, dtype: int64\n",
            "\n",
            "\n",
            "Column: Asthma_chronic\n",
            "Asthma_chronic\n",
            "0    59728\n",
            "1    26931\n",
            "Name: count, dtype: int64\n",
            "\n",
            "\n",
            "Column: calendar_year\n",
            "calendar_year\n",
            "2019    20308\n",
            "2018    19752\n",
            "2017    13799\n",
            "2016     9418\n",
            "2020     4886\n",
            "2015     4853\n",
            "2021     4412\n",
            "2014     3324\n",
            "2022     2449\n",
            "2013     1870\n",
            "2012      966\n",
            "2011      500\n",
            "2010       85\n",
            "2009       21\n",
            "2008        9\n",
            "2007        4\n",
            "2004        2\n",
            "2000        1\n",
            "Name: count, dtype: int64\n",
            "\n",
            "\n",
            "Column: healthcare_seeking\n",
            "healthcare_seeking\n",
            "0    50848\n",
            "1    35811\n",
            "Name: count, dtype: int64\n",
            "\n",
            "\n",
            "Column: influenza_vaccine\n",
            "influenza_vaccine\n",
            "0    76388\n",
            "1    10271\n",
            "Name: count, dtype: int64\n",
            "\n",
            "\n",
            "Column: key_comorbidities\n",
            "key_comorbidities\n",
            "0    46224\n",
            "1    26585\n",
            "2    13850\n",
            "Name: count, dtype: int64\n",
            "\n",
            "\n",
            "Column: n_tests_that_day\n",
            "n_tests_that_day\n",
            "1    85457\n",
            "2     1202\n",
            "Name: count, dtype: int64\n",
            "\n",
            "\n",
            "Column: any_immunodeficiency\n",
            "any_immunodeficiency\n",
            "0    70140\n",
            "1    16519\n",
            "Name: count, dtype: int64\n",
            "\n",
            "\n",
            "Column: tumor_indicator\n",
            "tumor_indicator\n",
            "0    80215\n",
            "1     6444\n",
            "Name: count, dtype: int64\n",
            "\n",
            "\n",
            "Column: tumor_last_year\n",
            "tumor_last_year\n",
            "0    83461\n",
            "1     3198\n",
            "Name: count, dtype: int64\n",
            "\n",
            "\n",
            "Column: is_metastatic\n",
            "is_metastatic\n",
            "0    85829\n",
            "1      830\n",
            "Name: count, dtype: int64\n",
            "\n",
            "\n",
            "Column: RSV_test_result\n",
            "RSV_test_result\n",
            "Negative    84005\n",
            "Positive     2654\n",
            "Name: count, dtype: int64\n",
            "\n",
            "\n"
          ]
        }
      ],
      "source": [
        "summary_function_rsv(rsv_predictors_phase1_df)"
      ]
    },
    {
      "attachments": {},
      "cell_type": "markdown",
      "metadata": {},
      "source": [
        "# 2. Plots of positivity and evaluation of correlations"
      ]
    },
    {
      "cell_type": "code",
      "execution_count": 28,
      "metadata": {},
      "outputs": [
        {
          "data": {
            "image/png": "[encoded data removed]",
            "text/plain": [
              "<Figure size 1500x1500 with 7 Axes>"
            ]
          },
          "metadata": {},
          "output_type": "display_data"
        }
      ],
      "source": [
        "# Start by evaluating the distribution of specific columns\n",
        "columns_to_inspect = ['CCI', 'sine','cosine', 'n_symptoms', \n",
        "                      'prev_positive_rsv', 'previous_test_daydiff', 'n_immunodeficiencies']\n",
        "\n",
        "fig, axs = plt.subplots(3, 3, figsize=(15, 15))\n",
        "axs = axs.flatten() # axes are flattened to be able to iterate over them\n",
        "\n",
        "for i, col in enumerate(columns_to_inspect):\n",
        "    # if col == \"sine\" or col ==\"cosine\":\n",
        "    #     data = np.exp(rsv_predictors_phase1_df[col])\n",
        "    # else:\n",
        "    #     data = np.log(rsv_predictors_phase1_df[col] + 1)\n",
        "\n",
        "    data = rsv_predictors_phase1_df[col]\n",
        "    axs[i].hist(data, bins=100)  \n",
        "    axs[i].set_title(col)\n",
        "\n",
        "# Sanity check: eliminate all extra axes\n",
        "for j in range(i+1, 9):\n",
        "    fig.delaxes(axs[j])\n",
        "\n",
        "plt.tight_layout()\n",
        "plt.show()"
      ]
    },
    {
      "attachments": {},
      "cell_type": "markdown",
      "metadata": {},
      "source": [
        "### 2.1 Granular method :\n",
        "- First, differentiate patients with no past RSV test records\n",
        "- Second, differentiate between tests in different seasons of the year"
      ]
    },
    {
      "attachments": {},
      "cell_type": "markdown",
      "metadata": {},
      "source": [
        "- Differentiating patients with no past RSV test records"
      ]
    },
    {
      "cell_type": "code",
      "execution_count": 11,
      "metadata": {},
      "outputs": [],
      "source": [
        "# Have a closer look at previous_test_day_diff\n",
        "\n",
        "# Let's take them from the dedup file (see point 3) as this will likely bring more relevant results\n",
        "df = rsv_predictors_phase1_daysDedup_df\n",
        "\n",
        "# count_records_per_patient = df.groupby('patient_id').size()\n",
        "# locator_one_record_patients = df.groupby('patient_id').size() == 1\n",
        "# one_record_patients_v0 = count_records_per_patient[locator_one_record_patients].index\n",
        "\n",
        "one_record_patients = df.groupby('patient_id').size().loc[lambda x: x == 1].index\n",
        "\n",
        "rsv_one_record = df.loc[\n",
        "    df['patient_id'].isin(one_record_patients)]\n",
        "\n",
        "rsv_multiple_records = df.loc[\n",
        "    ~df['patient_id'].isin(one_record_patients)]\n",
        "\n",
        "rsv_one_record = rsv_one_record.copy()\n",
        "rsv_multiple_records = rsv_multiple_records.copy()\n",
        "rsv_one_record.loc[:,'multiple_tests'] = False\n",
        "rsv_multiple_records.loc[:,'multiple_tests'] = True"
      ]
    },
    {
      "cell_type": "code",
      "execution_count": 12,
      "metadata": {},
      "outputs": [
        {
          "name": "stdout",
          "output_type": "stream",
          "text": [
            "Positivity percentage in patients with only one record: 3.2925051035287254\n",
            "Positivity percentage in patients with multiple records: 2.945835265028589\n",
            "z-score: 2.87993190702208\n",
            "p-value: 0.003977610681573247\n"
          ]
        }
      ],
      "source": [
        "# See if the difference in positivity proportion is relevant\n",
        "pos_one_record = rsv_one_record['RSV_test_result'].value_counts()[1]\n",
        "p_one_record = pos_one_record / rsv_one_record.shape[0] # 3.29%\n",
        "\n",
        "pos_multiple_records = rsv_multiple_records['RSV_test_result'].value_counts()[1]\n",
        "p_multiple_records = pos_multiple_records / rsv_multiple_records.shape[0] # 2.95 %\n",
        "\n",
        "p_one_record, p_multiple_records\n",
        "\n",
        "print(f'Positivity percentage in patients with only one record: {p_one_record*100}')\n",
        "print(f'Positivity percentage in patients with multiple records: {p_multiple_records*100}')\n",
        "\n",
        "# Making a comprobation of the differences between positiviy rates in the two populations\n",
        "z, p = sm.stats.proportions_ztest([pos_one_record, pos_multiple_records], [rsv_one_record.shape[0], rsv_multiple_records.shape[0]])\n",
        "print('z-score:', z)\n",
        "print('p-value:', p)"
      ]
    },
    {
      "attachments": {},
      "cell_type": "markdown",
      "metadata": {},
      "source": [
        "- Seasonality of the testing"
      ]
    },
    {
      "cell_type": "code",
      "execution_count": 13,
      "metadata": {},
      "outputs": [],
      "source": [
        "# Have a closer look at the seasonality of testing\n",
        "\n",
        "# Let's take them from the dedup file (see point 3) as this will likely bring more relevant results\n",
        "df = rsv_predictors_phase1_daysDedup_df\n",
        "\n",
        "df['month_of_the_test'] = pd.to_datetime(df['index_date']).dt.month\n",
        "df['season'] = df['month_of_the_test'].apply(get_season_rsv)"
      ]
    },
    {
      "cell_type": "code",
      "execution_count": 14,
      "metadata": {},
      "outputs": [
        {
          "name": "stdout",
          "output_type": "stream",
          "text": [
            "Season: winter\n",
            "Positiviy: 4.414359905208491\n",
            "Season: spring\n",
            "Positiviy: 2.291828649709356\n",
            "Season: summer\n",
            "Positiviy: 0.7528860632424293\n",
            "Season: autumn\n",
            "Positiviy: 1.7827838281366555\n"
          ]
        }
      ],
      "source": [
        "for season in ['winter', 'spring', 'summer', 'autumn']:\n",
        "    pos_tests = df.loc[df['season'] == season,'RSV_test_result'].value_counts()[1]\n",
        "\n",
        "    p_positivity = pos_tests / (df.loc[df['season'] == season].shape[0])\n",
        "\n",
        "    print(f'Season: {season}')\n",
        "    print(f'Positiviy: {p_positivity * 100}')"
      ]
    },
    {
      "attachments": {},
      "cell_type": "markdown",
      "metadata": {},
      "source": [
        "- Create new data frame incorportating this information"
      ]
    },
    {
      "cell_type": "code",
      "execution_count": 15,
      "metadata": {},
      "outputs": [],
      "source": [
        "# Create a dataframe having extra features: flag_previous tests, month_test, season_test\n",
        "\n",
        "df = rsv_predictors_phase1_daysDedup_df\n",
        "# 1st, flag to indicate if they had previous tests or not\n",
        "one_record_patients = df.groupby('patient_id').size().loc[lambda x: x == 1].index\n",
        "\n",
        "df = df.copy()\n",
        "df.loc[df['patient_id'].isin(one_record_patients),'multiple_tests'] = False\n",
        "df.loc[~df['patient_id'].isin(one_record_patients),'multiple_tests'] = True\n",
        "\n",
        "# 2nd, seasonality\n",
        "df['month_of_the_test'] = pd.Categorical(pd.to_datetime(df['index_date']).dt.month,\n",
        "                                         categories = [1,2,3,4,5,6,7,8,9,10,11,12])\n",
        "df['season'] = pd.Categorical(df['month_of_the_test'].apply(get_season_rsv), \n",
        "                              categories=['winter', 'spring', 'summer', 'autumn'])"
      ]
    },
    {
      "cell_type": "code",
      "execution_count": 16,
      "metadata": {},
      "outputs": [],
      "source": [
        "df.to_csv('rsv_predictors_phase1_daysDedup_seasons_prevTest.csv', index=False)"
      ]
    },
    {
      "attachments": {},
      "cell_type": "markdown",
      "metadata": {},
      "source": [
        "# 3. Evaluate positivity within a short period of time\n",
        "- Tests in the same day and same patient\n",
        "- Tests in the same week (and same patient)"
      ]
    },
    {
      "cell_type": "code",
      "execution_count": 9,
      "metadata": {},
      "outputs": [],
      "source": [
        "rsv_predictors_phase1_df['index_date'] = pd.to_datetime(rsv_predictors_phase1_df['index_date']).dt.date"
      ]
    },
    {
      "cell_type": "code",
      "execution_count": 31,
      "metadata": {},
      "outputs": [],
      "source": [
        "# I want to see (same Day)\n",
        "# a) how many tests are taken at the same day and same patient \n",
        "# b) how many have i) positive-positive, ii) negative-negative, iii) negative-positive\n",
        "\n",
        "# Take only those records having more than one test that day\n",
        "more_one_rsv_test_df = (\n",
        "    rsv_predictors_phase1_df.loc[rsv_predictors_phase1_df['n_tests_that_day'] == 2, \n",
        "                                 ['patient_id', 'index_date', 'RSV_test_result']]\n",
        "                                 )\n",
        "\n",
        "more_one_rsv_test_df.shape # 1202 records, i.e. 601 test records the same day\n",
        "\n",
        "(more_one_rsv_test_df['RSV_test_result'] == 'Positive').sum() # 601\n",
        "(more_one_rsv_test_df['RSV_test_result'] == 'Negative').sum() # 601\n",
        "\n",
        "# It seems that, every time a test is repeated, there exists one negative and positive test\n",
        "\n",
        "series_grouped = more_one_rsv_test_df.groupby(['patient_id', 'index_date']).apply(aggregate_same_day_test_results)\n",
        "# This returns a multi-index (patient_id and index_date) pd.Series\n",
        "# We can reconvert this to a df\n",
        "\n",
        "df_grouped = series_grouped.reset_index().rename(columns = {0: 'test_combination'})\n",
        "df_grouped['test_combination'] = pd.Categorical(\n",
        "    df_grouped['test_combination'], categories = ['NegNeg', 'PosPos', 'PosNeg'])"
      ]
    },
    {
      "cell_type": "code",
      "execution_count": 32,
      "metadata": {},
      "outputs": [
        {
          "data": {
            "text/html": [
              "<div>\n",
              "<style scoped>\n",
              "    .dataframe tbody tr th:only-of-type {\n",
              "        vertical-align: middle;\n",
              "    }\n",
              "\n",
              "    .dataframe tbody tr th {\n",
              "        vertical-align: top;\n",
              "    }\n",
              "\n",
              "    .dataframe thead th {\n",
              "        text-align: right;\n",
              "    }\n",
              "</style>\n",
              "<table border=\"1\" class=\"dataframe\">\n",
              "  <thead>\n",
              "    <tr style=\"text-align: right;\">\n",
              "      <th></th>\n",
              "      <th>patient_id</th>\n",
              "      <th>index_date</th>\n",
              "      <th>test_combination</th>\n",
              "    </tr>\n",
              "  </thead>\n",
              "  <tbody>\n",
              "    <tr>\n",
              "      <th>count</th>\n",
              "      <td>601</td>\n",
              "      <td>601</td>\n",
              "      <td>601</td>\n",
              "    </tr>\n",
              "    <tr>\n",
              "      <th>unique</th>\n",
              "      <td>536</td>\n",
              "      <td>440</td>\n",
              "      <td>1</td>\n",
              "    </tr>\n",
              "    <tr>\n",
              "      <th>top</th>\n",
              "      <td>39c750b5343111eeb7ecd9f0ab68ae132df5610a</td>\n",
              "      <td>2018-11-27</td>\n",
              "      <td>PosNeg</td>\n",
              "    </tr>\n",
              "    <tr>\n",
              "      <th>freq</th>\n",
              "      <td>12</td>\n",
              "      <td>6</td>\n",
              "      <td>601</td>\n",
              "    </tr>\n",
              "  </tbody>\n",
              "</table>\n",
              "</div>"
            ],
            "text/plain": [
              "                                      patient_id  index_date test_combination\n",
              "count                                        601         601              601\n",
              "unique                                       536         440                1\n",
              "top     39c750b5343111eeb7ecd9f0ab68ae132df5610a  2018-11-27           PosNeg\n",
              "freq                                          12           6              601"
            ]
          },
          "execution_count": 32,
          "metadata": {},
          "output_type": "execute_result"
        }
      ],
      "source": [
        "df_grouped.describe()"
      ]
    },
    {
      "cell_type": "code",
      "execution_count": 33,
      "metadata": {},
      "outputs": [
        {
          "data": {
            "image/png": "[encoded data removed]",
            "text/plain": [
              "<Figure size 800x600 with 1 Axes>"
            ]
          },
          "metadata": {},
          "output_type": "display_data"
        }
      ],
      "source": [
        "counts = df_grouped['test_combination'].value_counts() # returns a series with index the categories and values the counts per category\n",
        "\n",
        "counts_df = pd.DataFrame({'test_combination': counts.index, 'count': counts.values})\n",
        "\n",
        "plt.figure(figsize=(8, 6))\n",
        "sns.barplot(\n",
        "    x='test_combination', y='count', data=counts_df, order = ['PosNeg', 'NegNeg', 'PosPos'])\n",
        "plt.xlabel('Test Combination')\n",
        "plt.ylabel('Count')\n",
        "plt.title('Number of records of each test combination')\n",
        "\n",
        "# Add labels\n",
        "for i, row in counts_df.iterrows():\n",
        "    plt.text(i, row['count'], row['count'], color='black', ha=\"center\")\n",
        "    \n",
        "plt.show()"
      ]
    },
    {
      "attachments": {},
      "cell_type": "markdown",
      "metadata": {},
      "source": [
        "Every time a patient is tested twice in a day, they result in a positive-negative combination.\n",
        "\n",
        "This happens in 601 (out of 2654) positive tests, roughly a 22% of total Positive test. As it is a relevant percentage, a further pre processing step is proposed: cleaning these duplicates"
      ]
    },
    {
      "cell_type": "code",
      "execution_count": 34,
      "metadata": {},
      "outputs": [],
      "source": [
        "# Test deduplication clean up\n",
        "\n",
        "one_test_days_df = rsv_predictors_phase1_df.loc[\n",
        "    rsv_predictors_phase1_df['n_tests_that_day'] == 1]\n",
        "\n",
        "two_test_days_positive_only_df = rsv_predictors_phase1_df.loc[\n",
        "    (rsv_predictors_phase1_df['n_tests_that_day'] == 2) & (rsv_predictors_phase1_df['RSV_test_result'] == 'Positive')\n",
        "]\n",
        "\n",
        "rsv_predictors_phase1_daysDedup_df = pd.concat([one_test_days_df, two_test_days_positive_only_df], axis = 0)\n"
      ]
    },
    {
      "cell_type": "code",
      "execution_count": 35,
      "metadata": {},
      "outputs": [
        {
          "data": {
            "text/plain": [
              "RSV_test_result\n",
              "Negative    83404\n",
              "Positive     2654\n",
              "Name: count, dtype: int64"
            ]
          },
          "execution_count": 35,
          "metadata": {},
          "output_type": "execute_result"
        }
      ],
      "source": [
        "rsv_predictors_phase1_daysDedup_df['RSV_test_result'].value_counts()"
      ]
    },
    {
      "cell_type": "markdown",
      "metadata": {},
      "source": [
        "# 4. Creation of two new features: BPA and BPAI\n",
        "\n",
        "Literature review indicates how the presence of Bronchitis, Pneumonia and Acute Respiratory Infections are a strong predictor for RSV positivity. We add these features to the current model, together with Influenza, as it has been identified as relevant in previous model selection steps."
      ]
    },
    {
      "cell_type": "code",
      "execution_count": 64,
      "metadata": {},
      "outputs": [
        {
          "data": {
            "text/plain": [
              "((86058, 64), (86058, 62))"
            ]
          },
          "execution_count": 64,
          "metadata": {},
          "output_type": "execute_result"
        }
      ],
      "source": [
        "# Creation of two new predictors\n",
        "\n",
        "aux_df = rsv_predictors_df_v2.copy()\n",
        "\n",
        "aux_df['Bronchitis'] = aux_df['Bronchitis'].astype('int')\n",
        "aux_df['Pneumonia'] = aux_df['Pneumonia'].astype('int')\n",
        "aux_df['Influenza'] = aux_df['Influenza'].astype('int')\n",
        "aux_df['Acute_upper_respiratory_infection'] = aux_df['Acute_upper_respiratory_infection'].astype('int')\n",
        "\n",
        "aux_df['BPAI'] = aux_df['Bronchitis'] + aux_df['Pneumonia'] + aux_df['Influenza'] + aux_df['Acute_upper_respiratory_infection']\n",
        "aux_df['BPA'] = aux_df['Bronchitis'] + aux_df['Pneumonia'] + aux_df['Acute_upper_respiratory_infection'] \n",
        "\n",
        "aux_df.shape, rsv_predictors_df_v2.shape"
      ]
    },
    {
      "cell_type": "markdown",
      "metadata": {},
      "source": [
        "# 5. Feature engineering of phase 2 data\n",
        "\n",
        "There are features which were built in phase 1 and not present in phase 2 data just yet. We need to add those."
      ]
    },
    {
      "cell_type": "code",
      "execution_count": 19,
      "metadata": {},
      "outputs": [],
      "source": [
        "# Load phase 1 data and see their features\n",
        "\n",
        "raw_datasets_path = os.getcwd() + '/datasets/raw'\n",
        "processed_datasets_path = os.getcwd() + '/datasets/processed'\n",
        "\n",
        "rsv_predictors_df_v2 = pd.read_csv(processed_datasets_path + '/rsv_predictors_phase1_daysDedup_seasons_prevTest_v2.csv',low_memory=False)\n",
        "rsv_predictors_df_v2 = make_it_categorical_v2(rsv_predictors_df_v2)\n",
        "\n",
        "# print('Phase 1 features:')\n",
        "# print(rsv_predictors_df_v2.columns)"
      ]
    },
    {
      "cell_type": "code",
      "execution_count": 20,
      "metadata": {},
      "outputs": [],
      "source": [
        "# Load phase 2 data and see the features\n",
        "raw_datasets_path = os.getcwd() + '/datasets/raw'\n",
        "processed_datasets_path = os.getcwd() + '/datasets/processed'\n",
        "\n",
        "rsv_df_phase2_raw = pd.read_csv(raw_datasets_path + '/rsv_predictors_df_phase2_v3.csv',low_memory=False)\n",
        "rsv_df_phase2_raw.rename(columns = {'n_claims':'n_encounters'}, inplace=True)\n",
        "\n",
        "# print('Phase 2 (raw) features:')\n",
        "# print(rsv_df_phase2_raw.columns)"
      ]
    },
    {
      "cell_type": "code",
      "execution_count": 21,
      "metadata": {},
      "outputs": [
        {
          "data": {
            "text/plain": [
              "Index(['RSV_test_result', 'month_of_the_test', 'season', 'multiple_tests',\n",
              "       'BPAI', 'BPA'],\n",
              "      dtype='object')"
            ]
          },
          "execution_count": 21,
          "metadata": {},
          "output_type": "execute_result"
        }
      ],
      "source": [
        "# Compare both elements and detect missing columns\n",
        "rsv_predictors_df_v2.columns[~rsv_predictors_df_v2.columns.isin(rsv_df_phase2_raw.columns)]"
      ]
    },
    {
      "cell_type": "code",
      "execution_count": 22,
      "metadata": {},
      "outputs": [],
      "source": [
        "#Avoid altering the original dataframe for risk mitigation\n",
        "aux_df_phase2 = rsv_df_phase2_raw.copy()"
      ]
    },
    {
      "cell_type": "markdown",
      "metadata": {},
      "source": [
        "## Loading of rsv tests of phase 2\n",
        "\n",
        "As phase 2 data lacks the labelling of tests, there is a small set  of patients having these labels. In this small section, these records are filtered in for later use"
      ]
    },
    {
      "cell_type": "code",
      "execution_count": 45,
      "metadata": {},
      "outputs": [
        {
          "data": {
            "text/plain": [
              "RSV_test_result\n",
              "Negative    5276\n",
              "Positive     112\n",
              "Name: count, dtype: int64"
            ]
          },
          "execution_count": 45,
          "metadata": {},
          "output_type": "execute_result"
        }
      ],
      "source": [
        "tests_phase2_df = pd.read_csv(raw_datasets_path + '/rsv_test_phase2.csv',low_memory=False)\n",
        "tests_phase2_df.RSV_test_result.value_counts()"
      ]
    },
    {
      "cell_type": "markdown",
      "metadata": {},
      "source": [
        "## month_of_the_test and season"
      ]
    },
    {
      "cell_type": "code",
      "execution_count": 30,
      "metadata": {},
      "outputs": [
        {
          "data": {
            "text/plain": [
              "(month_of_the_test\n",
              " 1     29070\n",
              " 12    28126\n",
              " 3     27927\n",
              " 2     26425\n",
              " 11    26221\n",
              " 4     24987\n",
              " 10    23650\n",
              " 5     21778\n",
              " 9     21579\n",
              " 8     21219\n",
              " 6     20606\n",
              " 7     20350\n",
              " Name: count, dtype: int64,\n",
              " season\n",
              " winter    83621\n",
              " spring    74692\n",
              " autumn    71450\n",
              " summer    62175\n",
              " Name: count, dtype: int64)"
            ]
          },
          "execution_count": 30,
          "metadata": {},
          "output_type": "execute_result"
        }
      ],
      "source": [
        "# Month and season\n",
        "aux_df_phase2['month_of_the_test'] = pd.to_datetime(aux_df_phase2['index_date']).dt.month\n",
        "aux_df_phase2['season'] = aux_df_phase2['month_of_the_test'].apply(get_season_rsv)\n",
        "\n",
        "# First taste of how records are split in the phase 2 population\n",
        "# remember these are not tests, but encounters of flu-like symptom patients\n",
        "aux_df_phase2['month_of_the_test'].value_counts(), aux_df_phase2['season'].value_counts()"
      ]
    },
    {
      "cell_type": "markdown",
      "metadata": {},
      "source": [
        "## multiple_tests\n",
        "\n",
        "In phase 1, multiple_tests are actually encoded as multiple records.\n",
        "\n",
        "Let us first evaluate how this looks like, in case it may be worth defining multiple_tests as a) *multiple records* or b) actually focusing on the tests exclusively."
      ]
    },
    {
      "cell_type": "code",
      "execution_count": 39,
      "metadata": {},
      "outputs": [
        {
          "data": {
            "text/plain": [
              "((291938, 60), (10886, 60), (281052, 60))"
            ]
          },
          "execution_count": 39,
          "metadata": {},
          "output_type": "execute_result"
        }
      ],
      "source": [
        "df = aux_df_phase2.copy()\n",
        "\n",
        "one_record_patients = df.groupby('patient_id').size().loc[lambda x: x == 1].index\n",
        "\n",
        "rsv_one_record = df.loc[\n",
        "    df['patient_id'].isin(one_record_patients)]\n",
        "\n",
        "rsv_multiple_records = df.loc[\n",
        "    ~df['patient_id'].isin(one_record_patients)]\n",
        "\n",
        "df.shape, rsv_one_record.shape, rsv_multiple_records.shape\n",
        "\n",
        "# Only 10,886 (around 1 in every 30 records) patients present one record in our case."
      ]
    },
    {
      "cell_type": "code",
      "execution_count": 51,
      "metadata": {},
      "outputs": [
        {
          "data": {
            "text/plain": [
              "((5388, 3), (2007, 3), (3381, 3))"
            ]
          },
          "execution_count": 51,
          "metadata": {},
          "output_type": "execute_result"
        }
      ],
      "source": [
        "# Now, let us evaluate this same number using only the RSV tests, not all the records\n",
        "\n",
        "df = tests_phase2_df.copy() # this is the key line to change\n",
        "\n",
        "one_record_patients = df.groupby('patient_id').size().loc[lambda x: x == 1].index\n",
        "\n",
        "rsv_one_record = df.loc[\n",
        "    df['patient_id'].isin(one_record_patients)]\n",
        "\n",
        "rsv_multiple_records = df.loc[\n",
        "    ~df['patient_id'].isin(one_record_patients)]\n",
        "\n",
        "# 2007 of the patients have one record of rsv, 3381 records have multiple\n",
        "df.shape, rsv_one_record.shape, rsv_multiple_records.shape"
      ]
    },
    {
      "cell_type": "code",
      "execution_count": 59,
      "metadata": {},
      "outputs": [
        {
          "data": {
            "text/plain": [
              "multiple_tests\n",
              "False    276805\n",
              "True      15133\n",
              "Name: count, dtype: int64"
            ]
          },
          "execution_count": 59,
          "metadata": {},
          "output_type": "execute_result"
        }
      ],
      "source": [
        "multiple_rsv_test_patient_ids = rsv_multiple_records.patient_id.unique()\n",
        "\n",
        "# Having identified these, let us create multiple_tests in our phase 2 df\n",
        "aux_df_phase2.loc[aux_df_phase2.patient_id.isin(multiple_rsv_test_patient_ids), 'multiple_tests'] = True\n",
        "aux_df_phase2.loc[~aux_df_phase2.patient_id.isin(multiple_rsv_test_patient_ids), 'multiple_tests'] = False\n",
        "\n",
        "aux_df_phase2.multiple_tests.value_counts()"
      ]
    },
    {
      "cell_type": "markdown",
      "metadata": {},
      "source": [
        "## BPAI, BPA\n",
        "\n",
        "We now need to build BPAI (Bronchitis, Pneunomia, Acute respiratory infection, influenza) and BPA (Bronchitis, Pneunomia, Acute respiratory infection)"
      ]
    },
    {
      "cell_type": "code",
      "execution_count": 61,
      "metadata": {},
      "outputs": [
        {
          "data": {
            "text/plain": [
              "(BPAI\n",
              " 0    232944\n",
              " 1     54806\n",
              " 2      3993\n",
              " 3       183\n",
              " 4        12\n",
              " Name: count, dtype: int64,\n",
              " BPA\n",
              " 0    235158\n",
              " 1     53466\n",
              " 2      3187\n",
              " 3       127\n",
              " Name: count, dtype: int64)"
            ]
          },
          "execution_count": 61,
          "metadata": {},
          "output_type": "execute_result"
        }
      ],
      "source": [
        "aux_df_phase2['BPAI'] = aux_df_phase2['Bronchitis'] + aux_df_phase2['Pneumonia'] + aux_df_phase2['Influenza'] + aux_df_phase2['Acute_upper_respiratory_infection']\n",
        "aux_df_phase2['BPA'] = aux_df_phase2['Bronchitis'] + aux_df_phase2['Pneumonia'] + aux_df_phase2['Acute_upper_respiratory_infection'] \n",
        "\n",
        "aux_df_phase2['BPAI'].value_counts(), aux_df_phase2['BPA'].value_counts()"
      ]
    },
    {
      "cell_type": "code",
      "execution_count": 63,
      "metadata": {},
      "outputs": [
        {
          "data": {
            "text/plain": [
              "(Index(['patient_id', 'index_date', 'sex', 'race', 'marital_status',\n",
              "        'patient_regional_location', 'age_group', 'Conjuctivitis',\n",
              "        'Acute_upper_respiratory_infection', 'Influenza', 'Pneumonia',\n",
              "        'Bronchitis', 'Acute_lower_respiratory_infection_other', 'Rhinitis',\n",
              "        'Other_COPD', 'Asthma',\n",
              "        'Symptoms_and_signs__circulatory_and_respiratory',\n",
              "        'Symptoms_and_signs__digestive_system_and_abdomen',\n",
              "        'Symptoms_and_signs__skin_and_subcutaneous_tissue',\n",
              "        'Symptoms_and_signs__cognition_perception_emotional_state_and_behaviour',\n",
              "        'General_symptoms_and_signs', 'COVID19_related', 'any_symptom',\n",
              "        'Acute_myocardial_infarction', 'Hystory_myocardial_infarction',\n",
              "        'Congestive_heart_failure', 'Peripheral_Vascular', 'CVD', 'COPD',\n",
              "        'Dementia', 'Paralysis', 'Diabetes', 'Diabetes_complications',\n",
              "        'Renal_disease', 'mild_liver_disease', 'moderate_liver_disease',\n",
              "        'Peptic_Ulcer_Disease', 'rheuma_disease', 'AIDS', 'Asthma_chronic',\n",
              "        'CCI', 'sine', 'cosine', 'calendar_year', 'healthcare_seeking',\n",
              "        'influenza_vaccine', 'n_symptoms', 'n_encounters', 'key_comorbidities',\n",
              "        'prev_positive_rsv', 'tendency_to_positivity', 'previous_test_daydiff',\n",
              "        'n_tests_that_day', 'n_immunodeficiencies', 'any_immunodeficiency',\n",
              "        'tumor_indicator', 'tumor_last_year', 'is_metastatic',\n",
              "        'month_of_the_test', 'season', 'multiple_tests', 'BPAI', 'BPA'],\n",
              "       dtype='object'),\n",
              " (291938, 63),\n",
              " (291938, 58))"
            ]
          },
          "execution_count": 63,
          "metadata": {},
          "output_type": "execute_result"
        }
      ],
      "source": [
        "aux_df_phase2.columns, aux_df_phase2.shape, rsv_df_phase2_raw.shape"
      ]
    },
    {
      "cell_type": "code",
      "execution_count": 64,
      "metadata": {},
      "outputs": [],
      "source": [
        "aux_df_phase2.to_csv(processed_datasets_path + '/rsv_phase2_all_features.csv', \n",
        "                     index=False)"
      ]
    }
  ],
  "metadata": {
    "colab": {
      "authorship_tag": "ABX9TyM/exD6YdcqccTqvra8/121",
      "mount_file_id": "1jGhUATVj1KGAazRxyVyVfJ3UqwcIPOMh",
      "provenance": []
    },
    "kernelspec": {
      "display_name": "Python 3",
      "name": "python3"
    },
    "language_info": {
      "codemirror_mode": {
        "name": "ipython",
        "version": 3
      },
      "file_extension": ".py",
      "mimetype": "text/x-python",
      "name": "python",
      "nbconvert_exporter": "python",
      "pygments_lexer": "ipython3",
      "version": "3.9.13"
    }
  },
  "nbformat": 4,
  "nbformat_minor": 0
}
