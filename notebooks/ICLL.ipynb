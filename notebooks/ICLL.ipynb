{
 "cells": [
  {
   "cell_type": "markdown",
   "metadata": {},
   "source": [
    "# 1. ICLL\n",
    "\n",
    "This notebook explores the implementation of ICLL (Imbalanced Classification via Layered Learning [1]). The three steps to its implementation are:\n",
    "\n",
    "- Dimensionality reduction for cluster build-up\n",
    "- ICLL\n",
    "- Explainability: understand the original drivers for RSV positivity from the reduced features\n",
    "\n",
    "\n",
    "[1]: Cerqueira, V., Torgo, L., Branco, P., & Bellinger, C. (2023). Automated imbalanced classification via layered learning. Machine Learning, 112(6), 2083-2104."
   ]
  }
 ],
 "metadata": {
  "kernelspec": {
   "display_name": "Python 3",
   "language": "python",
   "name": "python3"
  },
  "language_info": {
   "codemirror_mode": {
    "name": "ipython",
    "version": 3
   },
   "file_extension": ".py",
   "mimetype": "text/x-python",
   "name": "python",
   "nbconvert_exporter": "python",
   "pygments_lexer": "ipython3",
   "version": "3.9.13"
  },
  "orig_nbformat": 4
 },
 "nbformat": 4,
 "nbformat_minor": 2
}
