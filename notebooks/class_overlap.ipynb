{
 "cells": [
  {
   "cell_type": "markdown",
   "metadata": {},
   "source": [
    "# Heavy class overlap\n",
    "\n",
    "This notebook's goal is to evaluate class overlap, size it and study how to mitigate its impact  "
   ]
  },
  {
   "cell_type": "code",
   "execution_count": 3,
   "metadata": {},
   "outputs": [],
   "source": [
    "import os\n",
    "import pandas as pd\n",
    "import numpy as np\n",
    "import matplotlib.pyplot as plt\n",
    "import seaborn as sns\n",
    "import importlib\n",
    "from scipy.cluster.hierarchy import linkage, fcluster\n",
    "from sklearn.cluster import KMeans\n",
    "from scipy.spatial.distance import squareform\n",
    "from mpl_toolkits.mplot3d import Axes3D\n",
    "import gower\n",
    "import prince\n",
    "from sklearn.model_selection import GridSearchCV, train_test_split\n",
    "from sklearn.ensemble import RandomForestClassifier, StackingClassifier\n",
    "from sklearn.metrics import f1_score, make_scorer, confusion_matrix, recall_score, roc_auc_score, roc_curve, average_precision_score\n",
    "from sklearn.linear_model import LogisticRegression\n",
    "from collections import Counter\n",
    "from typing import List\n",
    "from sklearn.cluster import DBSCAN\n",
    "from sklearn.model_selection import train_test_split\n",
    "from imblearn.over_sampling import SMOTE\n",
    "from imblearn.under_sampling import RandomUnderSampler\n",
    "from imblearn.pipeline import Pipeline\n",
    "\n",
    "# import from custom package\n",
    "from auxFuns.EDA import *\n",
    "from auxFuns.modelling import *"
   ]
  },
  {
   "cell_type": "code",
   "execution_count": 4,
   "metadata": {},
   "outputs": [
    {
     "data": {
      "text/plain": [
       "<module 'auxFuns.modelling' from 'c:\\\\Users\\\\angel\\\\Documents\\\\VSCode\\\\rsv_modelling_transfer_learning\\\\auxFuns\\\\modelling.py'>"
      ]
     },
     "execution_count": 4,
     "metadata": {},
     "output_type": "execute_result"
    }
   ],
   "source": [
    "import auxFuns.EDA \n",
    "importlib.reload(auxFuns.EDA)\n",
    "\n",
    "import auxFuns.modelling\n",
    "importlib.reload(auxFuns.modelling)"
   ]
  },
  {
   "cell_type": "code",
   "execution_count": 5,
   "metadata": {},
   "outputs": [],
   "source": [
    "# Load of the data and filter in the needed features\n",
    "\n",
    "raw_datasets_path = os.getcwd() + '/datasets/raw'\n",
    "processed_datasets_path = os.getcwd() + '/datasets/processed'\n",
    "\n",
    "rsv_predictors_df_v2 = pd.read_csv(processed_datasets_path + '/rsv_predictors_phase1_daysDedup_seasons_prevTest_v2.csv',low_memory=False)\n",
    "rsv_predictors_df_v2 = make_it_categorical_v2(rsv_predictors_df_v2)"
   ]
  },
  {
   "cell_type": "code",
   "execution_count": 6,
   "metadata": {},
   "outputs": [],
   "source": [
    "selected_features = ['sex', 'marital_status', 'race','patient_regional_location', 'age_group',\n",
    "                     'Acute_upper_respiratory_infection','Influenza','Pneumonia','Bronchitis','Symptoms_and_signs__digestive_system_and_abdomen','General_symptoms_and_signs','any_symptom',\n",
    "                     'COPD','AIDS','Asthma_chronic','CCI',\n",
    "                     'sine','cosine','calendar_year', \n",
    "                     'healthcare_seeking', 'influenza_vaccine',\n",
    "                     'n_symptoms','prev_positive_rsv','previous_test_daydiff','n_immunodeficiencies', \n",
    "                     'tumor_indicator','tumor_last_year',\n",
    "                     'season',\n",
    "                     'n_tests_that_day']\n",
    "selected_features_v1 = ['n_tests_that_day', 'sine','cosine', 'previous_test_daydiff',\n",
    "                     'Bronchitis', 'CCI',\n",
    "                     'Acute_upper_respiratory_infection', 'n_immunodeficiencies', 'n_symptoms',\n",
    "                     'healthcare_seeking', \n",
    "                     'General_symptoms_and_signs', 'prev_positive_rsv', 'Influenza',\n",
    "                     'season','multiple_tests']\n",
    "selected_features_v2 = ['n_tests_that_day', 'sine','cosine', 'previous_test_daydiff',\n",
    "                     'Bronchitis', 'CCI',\n",
    "                     'Acute_upper_respiratory_infection', 'n_immunodeficiencies', 'n_symptoms',\n",
    "                     'healthcare_seeking', \n",
    "                     'General_symptoms_and_signs', 'prev_positive_rsv', 'Influenza',\n",
    "                     'key_comorbidities','Pneumonia',\n",
    "                     'season','month_of_the_test','multiple_tests',\n",
    "                     'BPA','BPAI']\n",
    "selected_features_v3 = selected_features_v2 + ['race', 'age_group','marital_status','sex',\n",
    "                                                    'patient_regional_location','calendar_year']\n",
    "\n",
    "selected_features_v1.append('RSV_test_result')\n",
    "selected_features_v2.append('RSV_test_result')\n",
    "selected_features_v3.append('RSV_test_result')"
   ]
  },
  {
   "cell_type": "code",
   "execution_count": 7,
   "metadata": {},
   "outputs": [
    {
     "data": {
      "text/plain": [
       "((86058, 20),\n",
       " Index(['n_tests_that_day', 'sine', 'cosine', 'previous_test_daydiff',\n",
       "        'Bronchitis', 'CCI', 'Acute_upper_respiratory_infection',\n",
       "        'n_immunodeficiencies', 'n_symptoms', 'healthcare_seeking',\n",
       "        'General_symptoms_and_signs', 'prev_positive_rsv', 'Influenza',\n",
       "        'key_comorbidities', 'Pneumonia', 'season', 'multiple_tests', 'BPA',\n",
       "        'BPAI', 'RSV_test_result'],\n",
       "       dtype='object'))"
      ]
     },
     "execution_count": 7,
     "metadata": {},
     "output_type": "execute_result"
    }
   ],
   "source": [
    "df1 = rsv_predictors_df_v2[selected_features_v2]\n",
    "df1 = df1.drop(['month_of_the_test'], axis = 1)\n",
    "df1.shape, df1.columns\n"
   ]
  },
  {
   "cell_type": "markdown",
   "metadata": {},
   "source": [
    "# 1. Visualization of heavy class overlap"
   ]
  },
  {
   "cell_type": "code",
   "execution_count": 9,
   "metadata": {},
   "outputs": [],
   "source": [
    "random_seed = 42\n",
    "n_components = 5\n",
    "\n",
    "X = df1.drop(['RSV_test_result'], axis = 1)\n",
    "\n",
    "famd = prince.FAMD(n_components=n_components, random_state=random_seed)\n",
    "famd = famd.fit(X)\n",
    "\n",
    "X_transformed = famd.transform(X)\n",
    "\n",
    "df_transformed = X_transformed.copy()\n",
    "# Ensure both df1 and df_transformed present the same records in the same order\n",
    "df1 = df1.sort_index()\n",
    "df_transformed = df_transformed.sort_index()\n",
    "\n",
    "assert all(df1.index == df_transformed.index), \"The indices of df1 and df_transformed do not match.\"\n",
    "\n",
    "df_transformed['RSV_test_result'] = [1 if label == 'Positive' else 0 for label in df1['RSV_test_result']]"
   ]
  },
  {
   "cell_type": "code",
   "execution_count": null,
   "metadata": {},
   "outputs": [],
   "source": [
    "# SMOTE resampling to allow class overlap visualization\n",
    "df_modelling = df_transformed[[0,1,2,3,4,'RSV_test_result']]\n",
    "\n",
    "X = df_modelling.drop(['RSV_test_result'], axis=1)\n",
    "y = df_modelling['RSV_test_result']\n",
    "\n",
    "X_train, X_test, y_train, y_test = train_test_split(X, y, test_size=0.2, random_state=42, stratify=y)\n",
    "\n",
    "# Defining the pipeline\n",
    "over = SMOTE(sampling_strategy=0.1)\n",
    "under = RandomUnderSampler(sampling_strategy=0.1)\n",
    "steps = [('o', over), ('u', under)]\n",
    "pipeline = Pipeline(steps=steps)\n",
    "\n",
    "# Over sampled and undersampled data generation\n",
    "X_train, y_train = pipeline.fit_resample(X_train, y_train)\n",
    "\n",
    "data_smote = pd.concat([X_train, y_train], axis = 1)\n",
    "\n",
    "y_train.value_counts()\n"
   ]
  },
  {
   "cell_type": "code",
   "execution_count": null,
   "metadata": {},
   "outputs": [],
   "source": [
    "# Visualization of the SMOTE data\n",
    "# \n",
    "# For clarity, let us plot the 10 different planes\n",
    "f, axes = plt.subplots(5, 2, figsize=(14, 24))\n",
    "\n",
    "# Two-dimensional plots\n",
    "sns.scatterplot(data=data_smote, x=0, y=1, hue='RSV_test_result', ax=axes[0, 0], s = 1)\n",
    "axes[0, 0].set_title('Component 1 vs Component 2')\n",
    "\n",
    "sns.scatterplot(data=data_smote, x=0, y=2, hue='RSV_test_result', ax=axes[0, 1], s = 1)\n",
    "axes[0, 1].set_title('Component 1 vs Component 3')\n",
    "\n",
    "sns.scatterplot(data=data_smote, x=0, y=3, hue='RSV_test_result', ax=axes[1, 0], s = 1)\n",
    "axes[1, 0].set_title('Component 1 vs Component 4')\n",
    "\n",
    "sns.scatterplot(data=data_smote, x=0, y=4, hue='RSV_test_result', ax=axes[1, 1], s = 1)\n",
    "axes[1, 1].set_title('Component 1 vs Component 5')\n",
    "\n",
    "sns.scatterplot(data=data_smote, x=1, y=2, hue='RSV_test_result', ax=axes[2, 0], s = 1)\n",
    "axes[2, 0].set_title('Component 2 vs Component 3')\n",
    "\n",
    "sns.scatterplot(data=data_smote, x=1, y=3, hue='RSV_test_result', ax=axes[2, 1], s = 1)\n",
    "axes[2, 1].set_title('Component 2 vs Component 4')\n",
    "\n",
    "sns.scatterplot(data=data_smote, x=1, y=4, hue='RSV_test_result', ax=axes[3, 0], s = 1)\n",
    "axes[3, 0].set_title('Component 2 vs Component 5')\n",
    "\n",
    "sns.scatterplot(data=data_smote, x=2, y=3, hue='RSV_test_result', ax=axes[3, 1], s = 1)\n",
    "axes[3, 1].set_title('Component 3 vs Component 4')\n",
    "\n",
    "sns.scatterplot(data=data_smote, x=2, y=4, hue='RSV_test_result', ax=axes[4, 0], s = 1)\n",
    "axes[4, 0].set_title('Component 3 vs Component 5')\n",
    "\n",
    "sns.scatterplot(data=data_smote, x=3, y=4, hue='RSV_test_result', ax=axes[4, 1], s = 1)\n",
    "axes[4, 1].set_title('Component 4 vs Component 5')\n",
    "\n",
    "plt.tight_layout()"
   ]
  }
 ],
 "metadata": {
  "kernelspec": {
   "display_name": "Python 3",
   "language": "python",
   "name": "python3"
  },
  "language_info": {
   "codemirror_mode": {
    "name": "ipython",
    "version": 3
   },
   "file_extension": ".py",
   "mimetype": "text/x-python",
   "name": "python",
   "nbconvert_exporter": "python",
   "pygments_lexer": "ipython3",
   "version": "3.9.13"
  },
  "orig_nbformat": 4
 },
 "nbformat": 4,
 "nbformat_minor": 2
}
