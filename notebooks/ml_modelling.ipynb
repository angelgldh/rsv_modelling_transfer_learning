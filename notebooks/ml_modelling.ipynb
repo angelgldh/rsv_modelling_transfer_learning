{
 "cells": [
  {
   "cell_type": "code",
   "execution_count": 5,
   "metadata": {},
   "outputs": [],
   "source": [
    "import os\n",
    "import pandas as pd\n",
    "import numpy as np\n",
    "import matplotlib.pyplot as plt\n",
    "import seaborn as sns\n",
    "\n",
    "# import from custom package\n",
    "from auxFuns.EDA import *"
   ]
  },
  {
   "cell_type": "code",
   "execution_count": 4,
   "metadata": {},
   "outputs": [],
   "source": [
    "# os.chdir('..')"
   ]
  },
  {
   "attachments": {},
   "cell_type": "markdown",
   "metadata": {},
   "source": [
    "# 1. Exploration of ML algorithms and visualization of their decision boundaries\n",
    "- Fitting various ML algorithms (linear, tree-based, distance-based)\n",
    "- Interpretability and explanation"
   ]
  },
  {
   "cell_type": "code",
   "execution_count": 13,
   "metadata": {},
   "outputs": [],
   "source": [
    "# Load data sets under study\n",
    "raw_datasets_path = os.getcwd() + '/datasets/raw'\n",
    "processed_datasets_path = os.getcwd() + '/datasets/processed'\n",
    "\n",
    "rsv_predictors_phase1_df = pd.read_csv(raw_datasets_path + '/rsv_predictors_df_phase1_v3.csv')\n",
    "rsv_predictors_phase1_daysDedup_df = pd.read_csv(processed_datasets_path + '/rsv_predictors_phase1_daysDedup.csv',low_memory=False)\n",
    "\n",
    "rsv_predictors_phase1_df = make_it_categorical(rsv_predictors_phase1_df)\n",
    "rsv_predictors_phase1_daysDedup_df = make_it_categorical(rsv_predictors_phase1_daysDedup_df)\n",
    "\n",
    "rsv_predictors_phase1_df.shape, rsv_predictors_phase1_daysDedup_df.shape\n",
    "\n",
    "# Extract a reduced sample of the data for modelling\n",
    "sample_size = 1000\n",
    "sample_rsv_df = rsv_predictors_phase1_df.sample(n = sample_size)\n",
    "sample_dedup_rsv_df = rsv_predictors_phase1_daysDedup_df.sample(n = sample_size)"
   ]
  },
  {
   "cell_type": "code",
   "execution_count": 14,
   "metadata": {},
   "outputs": [
    {
     "data": {
      "text/plain": [
       "(RSV_test_result\n",
       " Negative    971\n",
       " Positive     29\n",
       " Name: count, dtype: int64,\n",
       " RSV_test_result\n",
       " Negative    971\n",
       " Positive     29\n",
       " Name: count, dtype: int64)"
      ]
     },
     "execution_count": 14,
     "metadata": {},
     "output_type": "execute_result"
    }
   ],
   "source": [
    "sample_rsv_df['RSV_test_result'].value_counts(), sample_dedup_rsv_df['RSV_test_result'].value_counts()"
   ]
  },
  {
   "cell_type": "code",
   "execution_count": null,
   "metadata": {},
   "outputs": [],
   "source": [
    "# Fit and evaluate an initial simple model for each sample data\n",
    "# random forest\n",
    "# optimize for f1-score (recall, precision average)\n",
    "# produce confusion matrix for both"
   ]
  }
 ],
 "metadata": {
  "kernelspec": {
   "display_name": "Python 3",
   "language": "python",
   "name": "python3"
  },
  "language_info": {
   "codemirror_mode": {
    "name": "ipython",
    "version": 3
   },
   "file_extension": ".py",
   "mimetype": "text/x-python",
   "name": "python",
   "nbconvert_exporter": "python",
   "pygments_lexer": "ipython3",
   "version": "3.9.13"
  },
  "orig_nbformat": 4
 },
 "nbformat": 4,
 "nbformat_minor": 2
}
