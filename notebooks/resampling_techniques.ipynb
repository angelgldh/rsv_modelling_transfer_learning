{
 "cells": [
  {
   "attachments": {},
   "cell_type": "markdown",
   "metadata": {},
   "source": [
    "# Resampling techniques\n",
    "Notebook to explore the optimal resampling techniques for data imbalance. The workflow is the following:\n",
    "1. Assessment of various resampling techniques \n",
    "- Undersampling and upweighting (at various ratios)\n",
    "- Undersampling and oversampling\n",
    "- Self-paced ensemble (Self-paced Ensemble for Highly Imbalanced Massive Data Classification\n",
    "- Manually-prepared undersampling (reference: Solving the class imbalance problem using ensemble algorithm: application of screening for aortic dissection)\n",
    "- Hybrid approach (ref: Classifier Ensemble Design for Imbalanced Data Classification: A\n",
    "Hybrid Approach)\n",
    "\n",
    "2. Visualization of results and deeper dive \n",
    "- Visualization of decision boundaries\n",
    "- Train and test learning curves\n",
    "- Weight of different features\n",
    "- Ensemble models for performance improvement\n",
    "\n",
    "\n",
    "3. Propose a final high-performing method> potentially with active learning"
   ]
  }
 ],
 "metadata": {
  "kernelspec": {
   "display_name": "Python 3",
   "language": "python",
   "name": "python3"
  },
  "language_info": {
   "codemirror_mode": {
    "name": "ipython",
    "version": 3
   },
   "file_extension": ".py",
   "mimetype": "text/x-python",
   "name": "python",
   "nbconvert_exporter": "python",
   "pygments_lexer": "ipython3",
   "version": "3.9.13"
  },
  "orig_nbformat": 4
 },
 "nbformat": 4,
 "nbformat_minor": 2
}
